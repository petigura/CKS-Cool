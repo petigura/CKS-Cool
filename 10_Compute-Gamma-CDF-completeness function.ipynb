{
 "cells": [
  {
   "cell_type": "code",
   "execution_count": 7,
   "metadata": {},
   "outputs": [
    {
     "name": "stdout",
     "output_type": "stream",
     "text": [
      "Populating the interactive namespace from numpy and matplotlib\n",
      "read table m17+cdpp+gaia2+ber20 from ckscool/../cache/load_table_cache.hdf\n",
      "[[Fit Statistics]]\n",
      "    # fitting method   = leastsq\n",
      "    # function evals   = 21\n",
      "    # data points      = 39\n",
      "    # variables        = 3\n",
      "    chi-square         = 4.19485649\n",
      "    reduced chi-square = 0.11652379\n",
      "    Akaike info crit   = -80.9583982\n",
      "    Bayesian info crit = -75.9677132\n",
      "[[Variables]]\n",
      "    a:  26.0932380 +/- 1.15465804 (4.43%) (init = 30)\n",
      "    b:  0.31960918 +/- 0.01468851 (4.60%) (init = 0.27)\n",
      "    c:  0.94060189 +/- 0.00596692 (0.63%) (init = 0.94)\n",
      "[[Correlations]] (unreported correlations are < 0.100)\n",
      "    C(a, b) = -0.997\n",
      "    C(b, c) =  0.542\n",
      "    C(a, c) = -0.507\n"
     ]
    },
    {
     "data": {
      "image/png": "[encoded data removed]",
      "text/plain": [
       "<Figure size 288x216 with 1 Axes>"
      ]
     },
     "metadata": {},
     "output_type": "display_data"
    }
   ],
   "source": [
    "from astropy.io import ascii\n",
    "import ckscool.io\n",
    "import scipy.stats\n",
    "import ckscool.comp\n",
    "import pandas as pd\n",
    "import seaborn as sns\n",
    "import lmfit\n",
    "\n",
    "%pylab inline\n",
    "\n",
    "df = ascii.read('kplr_dr25_inj1_plti.txt')\n",
    "df = df.to_pandas().rename(columns={'KIC_ID':'id_kic'})\n",
    "field = ckscool.io.load_table('field-cuts')\n",
    "field = field[~field.isany]\n",
    "df = pd.merge(field[['id_kic']],df)\n",
    "df = df[df.Recovered.isin([0,1])] # a few have values of 2 for some reason\n",
    "\n",
    "binw = 0.5\n",
    "snrbins = arange(0,20,binw)\n",
    "snrbinc = snrbins[:-1]\n",
    "df['Recovered'] = df['Recovered'].astype(float)\n",
    "cut = df.query('1 < i_period < 300')\n",
    "g = cut.groupby(pd.cut(cut['Expected_MES'],bins=snrbins))\n",
    "rr = array(g['Recovered'].mean())\n",
    "rr_err = array((g['Recovered'].count())**-0.5)\n",
    "\n",
    "snri = linspace(0,20,100)\n",
    "\n",
    "params = lmfit.Parameters()\n",
    "params.add('a', value=30.0,min=0,max=100)\n",
    "params.add('b', value=0.27,vary=True)\n",
    "params.add('c', value=0.94)\n",
    "def gamma_cdf(params,snr):\n",
    "    d = params.valuesdict()\n",
    "    return d['c'] * scipy.stats.gamma.cdf(snr, d['a'], scale=d['b'])\n",
    "\n",
    "def residual(params):\n",
    "    return (rr - gamma_cdf(params,snrbinc))/rr_err\n",
    "\n",
    "out = lmfit.minimize(residual, params)\n",
    "print(lmfit.fit_report(out))\n",
    "d\n",
    "\n",
    "sns.set_style('ticks')\n",
    "sns.set_context('paper',font_scale=1.0)\n",
    "fig = figure(figsize=(4,3))\n",
    "errorbar(snrbinc,array(rr),yerr=array(rr_err),marker='.',elinewidth=1,lw=0,label='Injections')\n",
    "#plot(snri,ckscool.comp.fulton_gamma(snri))\n",
    "plot(snri,gamma_cdf(out.params,snri),label='Fit')\n",
    "#plot(snri,gamma_cdf(out.params,snri)*(snri > 10))\n",
    "ylim(0,1)\n",
    "xlim(0,20)\n",
    "xlabel('Expected MES')\n",
    "ylabel('Recovery Rate')\n",
    "fig.savefig('paper/ckscool-mstar-flux/fig_completeness.pdf')"
   ]
  },
  {
   "cell_type": "code",
   "execution_count": null,
   "metadata": {},
   "outputs": [],
   "source": []
  },
  {
   "cell_type": "code",
   "execution_count": null,
   "metadata": {},
   "outputs": [],
   "source": []
  },
  {
   "cell_type": "code",
   "execution_count": null,
   "metadata": {},
   "outputs": [],
   "source": []
  },
  {
   "cell_type": "code",
   "execution_count": null,
   "metadata": {},
   "outputs": [],
   "source": []
  }
 ],
 "metadata": {
  "kernelspec": {
   "display_name": "Python 2",
   "language": "python",
   "name": "python2"
  },
  "language_info": {
   "codemirror_mode": {
    "name": "ipython",
    "version": 2
   },
   "file_extension": ".py",
   "mimetype": "text/x-python",
   "name": "python",
   "nbconvert_exporter": "python",
   "pygments_lexer": "ipython2",
   "version": "2.7.15"
  }
 },
 "nbformat": 4,
 "nbformat_minor": 2
}
